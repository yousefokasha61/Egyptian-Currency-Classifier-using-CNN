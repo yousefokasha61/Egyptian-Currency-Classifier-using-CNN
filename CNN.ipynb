{
  "nbformat": 4,
  "nbformat_minor": 0,
  "metadata": {
    "colab": {
      "name": "CNN.ipynb",
      "provenance": []
    },
    "kernelspec": {
      "name": "python3",
      "display_name": "Python 3"
    },
    "language_info": {
      "name": "python"
    },
    "accelerator": "GPU"
  },
  "cells": [
    {
      "cell_type": "code",
      "metadata": {
        "id": "sW6g5Dwo_Qix"
      },
      "source": [
        "from tensorflow.keras.layers import Input, Lambda, Dense, Flatten\n",
        "from tensorflow.keras.models import Model\n",
        "from tensorflow.keras.preprocessing import image\n",
        "from tensorflow.keras.preprocessing.image import ImageDataGenerator,load_img\n",
        "from tensorflow.keras.models import Sequential\n",
        "from tensorflow.keras.layers import MaxPooling2D\n",
        "from tensorflow.keras.layers import Conv2D\n",
        "\n",
        "import numpy as np\n",
        "from glob import glob"
      ],
      "execution_count": 1,
      "outputs": []
    },
    {
      "cell_type": "code",
      "metadata": {
        "id": "qFFOf6w0AoBe"
      },
      "source": [
        "# re-size all the images to this\n",
        "IMAGE_SIZE = [224, 224]\n",
        "\n",
        "train_path = '/content/drive/MyDrive/Dataset/Dataset/Train'\n",
        "test_path = '/content/drive/MyDrive/Dataset/Dataset/Test'"
      ],
      "execution_count": 2,
      "outputs": []
    },
    {
      "cell_type": "code",
      "metadata": {
        "id": "TkeO1ajMBBY4"
      },
      "source": [
        "# useful for getting number of output classes\n",
        "folders = glob('/content/drive/MyDrive/Dataset/Dataset/Train/*')"
      ],
      "execution_count": 3,
      "outputs": []
    },
    {
      "cell_type": "code",
      "metadata": {
        "colab": {
          "base_uri": "https://localhost:8080/"
        },
        "id": "tim8I44WBLEB",
        "outputId": "6fa4acd3-19d1-4b20-cca2-ef1210b413be"
      },
      "source": [
        "folders"
      ],
      "execution_count": 4,
      "outputs": [
        {
          "output_type": "execute_result",
          "data": {
            "text/plain": [
              "['/content/drive/MyDrive/Dataset/Dataset/Train/200',\n",
              " '/content/drive/MyDrive/Dataset/Dataset/Train/10',\n",
              " '/content/drive/MyDrive/Dataset/Dataset/Train/5',\n",
              " '/content/drive/MyDrive/Dataset/Dataset/Train/50',\n",
              " '/content/drive/MyDrive/Dataset/Dataset/Train/100',\n",
              " '/content/drive/MyDrive/Dataset/Dataset/Train/20']"
            ]
          },
          "metadata": {
            "tags": []
          },
          "execution_count": 4
        }
      ]
    },
    {
      "cell_type": "code",
      "metadata": {
        "id": "GfNB5NatBPHV"
      },
      "source": [
        "Classifier=Sequential()\n",
        "\n",
        "Classifier.add(Conv2D(32,(3,3), input_shape=(224,224,3), activation='relu'))\n",
        "Classifier.add(MaxPooling2D(pool_size=(2,2)))\n",
        "\n",
        "Classifier.add(Conv2D(32,(3,3),activation='relu'))\n",
        "Classifier.add(MaxPooling2D(pool_size=(2,2)))\n",
        "\n",
        "Classifier.add(Flatten())\n",
        "\n",
        "Classifier.add(Dense(units = 128, activation = 'relu'))\n",
        "Classifier.add(Dense(units = 6, activation = 'softmax'))"
      ],
      "execution_count": 5,
      "outputs": []
    },
    {
      "cell_type": "code",
      "metadata": {
        "id": "5gpIiYbdBWcQ"
      },
      "source": [
        "# tell the model what cost and optimization method to use\n",
        "Classifier.compile(\n",
        "  loss='categorical_crossentropy',\n",
        "  optimizer='adam',\n",
        "  metrics=['accuracy']\n",
        ")"
      ],
      "execution_count": 6,
      "outputs": []
    },
    {
      "cell_type": "code",
      "metadata": {
        "id": "RW2LEO2MBaIX"
      },
      "source": [
        "# Use the Image Data Generator to import the images from the dataset\n",
        "from tensorflow.keras.preprocessing.image import ImageDataGenerator\n",
        "\n",
        "train_datagen = ImageDataGenerator(rescale = 1./255,\n",
        "                                   height_shift_range=0.2,\n",
        "                                   featurewise_center=True,\n",
        "                                   rotation_range=0.4,\n",
        "                                   horizontal_flip = True)\n",
        "\n",
        "test_datagen = ImageDataGenerator(rescale = 1./255,)"
      ],
      "execution_count": 7,
      "outputs": []
    },
    {
      "cell_type": "code",
      "metadata": {
        "colab": {
          "base_uri": "https://localhost:8080/"
        },
        "id": "eMGIGL8xDCjq",
        "outputId": "087fc2d4-21d3-42a0-d581-4241d8cc93fe"
      },
      "source": [
        "training_set = train_datagen.flow_from_directory('/content/drive/MyDrive/Dataset/Dataset/Train',\n",
        "                                                 target_size = (224, 224),\n",
        "                                                 batch_size = 32,\n",
        "                                                 class_mode = 'categorical')"
      ],
      "execution_count": 8,
      "outputs": [
        {
          "output_type": "stream",
          "text": [
            "Found 211 images belonging to 6 classes.\n"
          ],
          "name": "stdout"
        }
      ]
    },
    {
      "cell_type": "code",
      "metadata": {
        "colab": {
          "base_uri": "https://localhost:8080/"
        },
        "id": "_jfOdRt4DTwF",
        "outputId": "7d87cba9-e8bd-4075-8b70-603d33d7ffb1"
      },
      "source": [
        "test_set = test_datagen.flow_from_directory('/content/drive/MyDrive/Dataset/Dataset/Test',\n",
        "                                            target_size = (224, 224),\n",
        "                                            batch_size = 32,\n",
        "                                            class_mode = 'categorical')"
      ],
      "execution_count": 9,
      "outputs": [
        {
          "output_type": "stream",
          "text": [
            "Found 51 images belonging to 6 classes.\n"
          ],
          "name": "stdout"
        }
      ]
    },
    {
      "cell_type": "code",
      "metadata": {
        "colab": {
          "base_uri": "https://localhost:8080/"
        },
        "id": "bEhtLHu7Dd9r",
        "outputId": "cc635936-cdf9-416b-fe71-f5a47dd455e8"
      },
      "source": [
        "# fit the model\n",
        "from PIL import _imaging\n",
        "from PIL import Image\n",
        "import PIL\n",
        "# Run the cell. It will take some time to execute\n",
        "r = Classifier.fit_generator(\n",
        "  training_set,\n",
        "  validation_data=test_set,\n",
        "  epochs=50,\n",
        "  steps_per_epoch=len(training_set),\n",
        "  validation_steps=len(test_set)\n",
        ")"
      ],
      "execution_count": 10,
      "outputs": [
        {
          "output_type": "stream",
          "text": [
            "/usr/local/lib/python3.7/dist-packages/tensorflow/python/keras/engine/training.py:1844: UserWarning: `Model.fit_generator` is deprecated and will be removed in a future version. Please use `Model.fit`, which supports generators.\n",
            "  warnings.warn('`Model.fit_generator` is deprecated and '\n",
            "/usr/local/lib/python3.7/dist-packages/keras_preprocessing/image/image_data_generator.py:720: UserWarning: This ImageDataGenerator specifies `featurewise_center`, but it hasn't been fit on any training data. Fit it first by calling `.fit(numpy_data)`.\n",
            "  warnings.warn('This ImageDataGenerator specifies '\n"
          ],
          "name": "stderr"
        },
        {
          "output_type": "stream",
          "text": [
            "Epoch 1/50\n",
            "7/7 [==============================] - 85s 12s/step - loss: 9.2917 - accuracy: 0.1874 - val_loss: 2.2859 - val_accuracy: 0.1373\n",
            "Epoch 2/50\n",
            "7/7 [==============================] - 17s 2s/step - loss: 2.0839 - accuracy: 0.1269 - val_loss: 1.7960 - val_accuracy: 0.1765\n",
            "Epoch 3/50\n",
            "7/7 [==============================] - 17s 2s/step - loss: 1.7889 - accuracy: 0.1624 - val_loss: 1.7889 - val_accuracy: 0.1569\n",
            "Epoch 4/50\n",
            "7/7 [==============================] - 17s 3s/step - loss: 1.7867 - accuracy: 0.2764 - val_loss: 1.7618 - val_accuracy: 0.2549\n",
            "Epoch 5/50\n",
            "7/7 [==============================] - 17s 2s/step - loss: 1.7749 - accuracy: 0.2493 - val_loss: 1.7621 - val_accuracy: 0.3333\n",
            "Epoch 6/50\n",
            "7/7 [==============================] - 17s 2s/step - loss: 1.7182 - accuracy: 0.4200 - val_loss: 1.5601 - val_accuracy: 0.4314\n",
            "Epoch 7/50\n",
            "7/7 [==============================] - 17s 2s/step - loss: 1.6548 - accuracy: 0.3474 - val_loss: 1.6250 - val_accuracy: 0.4314\n",
            "Epoch 8/50\n",
            "7/7 [==============================] - 16s 2s/step - loss: 1.5200 - accuracy: 0.5834 - val_loss: 1.3545 - val_accuracy: 0.5098\n",
            "Epoch 9/50\n",
            "7/7 [==============================] - 16s 2s/step - loss: 1.3757 - accuracy: 0.5132 - val_loss: 1.3993 - val_accuracy: 0.4706\n",
            "Epoch 10/50\n",
            "7/7 [==============================] - 17s 2s/step - loss: 1.3004 - accuracy: 0.6093 - val_loss: 1.3265 - val_accuracy: 0.5098\n",
            "Epoch 11/50\n",
            "7/7 [==============================] - 17s 3s/step - loss: 0.9722 - accuracy: 0.6798 - val_loss: 1.1108 - val_accuracy: 0.6863\n",
            "Epoch 12/50\n",
            "7/7 [==============================] - 16s 2s/step - loss: 0.7342 - accuracy: 0.7869 - val_loss: 1.1143 - val_accuracy: 0.7255\n",
            "Epoch 13/50\n",
            "7/7 [==============================] - 16s 3s/step - loss: 0.6667 - accuracy: 0.7561 - val_loss: 1.1318 - val_accuracy: 0.5882\n",
            "Epoch 14/50\n",
            "7/7 [==============================] - 16s 2s/step - loss: 0.6310 - accuracy: 0.8245 - val_loss: 1.5216 - val_accuracy: 0.5686\n",
            "Epoch 15/50\n",
            "7/7 [==============================] - 16s 2s/step - loss: 0.5911 - accuracy: 0.7789 - val_loss: 1.1452 - val_accuracy: 0.6275\n",
            "Epoch 16/50\n",
            "7/7 [==============================] - 16s 2s/step - loss: 0.5229 - accuracy: 0.8185 - val_loss: 1.1422 - val_accuracy: 0.6667\n",
            "Epoch 17/50\n",
            "7/7 [==============================] - 16s 2s/step - loss: 0.4047 - accuracy: 0.8963 - val_loss: 1.1997 - val_accuracy: 0.6667\n",
            "Epoch 18/50\n",
            "7/7 [==============================] - 16s 2s/step - loss: 0.4216 - accuracy: 0.8717 - val_loss: 1.1248 - val_accuracy: 0.6667\n",
            "Epoch 19/50\n",
            "7/7 [==============================] - 16s 2s/step - loss: 0.3723 - accuracy: 0.8800 - val_loss: 1.1721 - val_accuracy: 0.6471\n",
            "Epoch 20/50\n",
            "7/7 [==============================] - 16s 2s/step - loss: 0.3195 - accuracy: 0.9183 - val_loss: 1.2922 - val_accuracy: 0.6667\n",
            "Epoch 21/50\n",
            "7/7 [==============================] - 16s 2s/step - loss: 0.3524 - accuracy: 0.9042 - val_loss: 1.0996 - val_accuracy: 0.6667\n",
            "Epoch 22/50\n",
            "7/7 [==============================] - 16s 2s/step - loss: 0.3796 - accuracy: 0.8873 - val_loss: 1.1422 - val_accuracy: 0.6863\n",
            "Epoch 23/50\n",
            "7/7 [==============================] - 16s 2s/step - loss: 0.3140 - accuracy: 0.9077 - val_loss: 1.2642 - val_accuracy: 0.6863\n",
            "Epoch 24/50\n",
            "7/7 [==============================] - 16s 2s/step - loss: 0.2479 - accuracy: 0.9253 - val_loss: 1.2969 - val_accuracy: 0.7255\n",
            "Epoch 25/50\n",
            "7/7 [==============================] - 17s 2s/step - loss: 0.2068 - accuracy: 0.9533 - val_loss: 1.3987 - val_accuracy: 0.7255\n",
            "Epoch 26/50\n",
            "7/7 [==============================] - 17s 2s/step - loss: 0.2982 - accuracy: 0.9263 - val_loss: 1.3489 - val_accuracy: 0.7451\n",
            "Epoch 27/50\n",
            "7/7 [==============================] - 16s 2s/step - loss: 0.1958 - accuracy: 0.9578 - val_loss: 1.4611 - val_accuracy: 0.6863\n",
            "Epoch 28/50\n",
            "7/7 [==============================] - 16s 2s/step - loss: 0.2539 - accuracy: 0.9312 - val_loss: 1.4470 - val_accuracy: 0.6667\n",
            "Epoch 29/50\n",
            "7/7 [==============================] - 16s 2s/step - loss: 0.2344 - accuracy: 0.9191 - val_loss: 1.4312 - val_accuracy: 0.6667\n",
            "Epoch 30/50\n",
            "7/7 [==============================] - 16s 2s/step - loss: 0.2431 - accuracy: 0.9205 - val_loss: 1.3100 - val_accuracy: 0.6863\n",
            "Epoch 31/50\n",
            "7/7 [==============================] - 16s 2s/step - loss: 0.2370 - accuracy: 0.9263 - val_loss: 1.6480 - val_accuracy: 0.6667\n",
            "Epoch 32/50\n",
            "7/7 [==============================] - 16s 2s/step - loss: 0.2415 - accuracy: 0.9124 - val_loss: 1.5395 - val_accuracy: 0.6863\n",
            "Epoch 33/50\n",
            "7/7 [==============================] - 16s 2s/step - loss: 0.2251 - accuracy: 0.9343 - val_loss: 1.4488 - val_accuracy: 0.6471\n",
            "Epoch 34/50\n",
            "7/7 [==============================] - 16s 2s/step - loss: 0.1711 - accuracy: 0.9524 - val_loss: 1.6504 - val_accuracy: 0.6863\n",
            "Epoch 35/50\n",
            "7/7 [==============================] - 16s 2s/step - loss: 0.1072 - accuracy: 0.9764 - val_loss: 1.8134 - val_accuracy: 0.6275\n",
            "Epoch 36/50\n",
            "7/7 [==============================] - 16s 2s/step - loss: 0.1996 - accuracy: 0.9121 - val_loss: 1.6900 - val_accuracy: 0.6471\n",
            "Epoch 37/50\n",
            "7/7 [==============================] - 16s 2s/step - loss: 0.1313 - accuracy: 0.9493 - val_loss: 1.7509 - val_accuracy: 0.6863\n",
            "Epoch 38/50\n",
            "7/7 [==============================] - 16s 2s/step - loss: 0.1280 - accuracy: 0.9554 - val_loss: 1.6296 - val_accuracy: 0.7059\n",
            "Epoch 39/50\n",
            "7/7 [==============================] - 16s 2s/step - loss: 0.1144 - accuracy: 0.9571 - val_loss: 1.6888 - val_accuracy: 0.7059\n",
            "Epoch 40/50\n",
            "7/7 [==============================] - 16s 2s/step - loss: 0.1695 - accuracy: 0.9564 - val_loss: 1.6153 - val_accuracy: 0.7059\n",
            "Epoch 41/50\n",
            "7/7 [==============================] - 16s 2s/step - loss: 0.1116 - accuracy: 0.9735 - val_loss: 1.6743 - val_accuracy: 0.6667\n",
            "Epoch 42/50\n",
            "7/7 [==============================] - 16s 2s/step - loss: 0.1918 - accuracy: 0.9544 - val_loss: 1.5929 - val_accuracy: 0.6471\n",
            "Epoch 43/50\n",
            "7/7 [==============================] - 16s 2s/step - loss: 0.2255 - accuracy: 0.9452 - val_loss: 1.7839 - val_accuracy: 0.6471\n",
            "Epoch 44/50\n",
            "7/7 [==============================] - 16s 2s/step - loss: 0.1405 - accuracy: 0.9539 - val_loss: 2.1183 - val_accuracy: 0.5686\n",
            "Epoch 45/50\n",
            "7/7 [==============================] - 16s 2s/step - loss: 0.1526 - accuracy: 0.9388 - val_loss: 1.8247 - val_accuracy: 0.6667\n",
            "Epoch 46/50\n",
            "7/7 [==============================] - 16s 2s/step - loss: 0.1233 - accuracy: 0.9709 - val_loss: 2.2858 - val_accuracy: 0.6275\n",
            "Epoch 47/50\n",
            "7/7 [==============================] - 16s 2s/step - loss: 0.1238 - accuracy: 0.9627 - val_loss: 2.1051 - val_accuracy: 0.6471\n",
            "Epoch 48/50\n",
            "7/7 [==============================] - 16s 2s/step - loss: 0.0940 - accuracy: 0.9821 - val_loss: 1.9806 - val_accuracy: 0.6275\n",
            "Epoch 49/50\n",
            "7/7 [==============================] - 16s 2s/step - loss: 0.0893 - accuracy: 0.9869 - val_loss: 1.8262 - val_accuracy: 0.6471\n",
            "Epoch 50/50\n",
            "7/7 [==============================] - 16s 2s/step - loss: 0.0795 - accuracy: 0.9866 - val_loss: 1.9541 - val_accuracy: 0.6863\n"
          ],
          "name": "stdout"
        }
      ]
    },
    {
      "cell_type": "code",
      "metadata": {
        "colab": {
          "base_uri": "https://localhost:8080/"
        },
        "id": "ssu3BrEzIoya",
        "outputId": "e5472d0c-94b2-4cff-dc92-17cd9bf4772a"
      },
      "source": [
        "r.history"
      ],
      "execution_count": 11,
      "outputs": [
        {
          "output_type": "execute_result",
          "data": {
            "text/plain": [
              "{'accuracy': [0.16587677597999573,\n",
              "  0.14691942930221558,\n",
              "  0.18483412265777588,\n",
              "  0.24170616269111633,\n",
              "  0.34597155451774597,\n",
              "  0.40758293867111206,\n",
              "  0.33175355195999146,\n",
              "  0.5402843356132507,\n",
              "  0.5260663628578186,\n",
              "  0.6018957495689392,\n",
              "  0.6777251362800598,\n",
              "  0.7488151788711548,\n",
              "  0.7203791737556458,\n",
              "  0.8056871891021729,\n",
              "  0.7772511839866638,\n",
              "  0.8199052214622498,\n",
              "  0.8862559199333191,\n",
              "  0.8767772316932678,\n",
              "  0.8815165758132935,\n",
              "  0.900473952293396,\n",
              "  0.900473952293396,\n",
              "  0.900473952293396,\n",
              "  0.9052132964134216,\n",
              "  0.9241706132888794,\n",
              "  0.928909957408905,\n",
              "  0.9431279897689819,\n",
              "  0.9573459625244141,\n",
              "  0.9241706132888794,\n",
              "  0.9099525809288025,\n",
              "  0.928909957408905,\n",
              "  0.9431279897689819,\n",
              "  0.9052132964134216,\n",
              "  0.9478672742843628,\n",
              "  0.9573459625244141,\n",
              "  0.9573459625244141,\n",
              "  0.928909957408905,\n",
              "  0.9573459625244141,\n",
              "  0.9526066184043884,\n",
              "  0.9620853066444397,\n",
              "  0.9526066184043884,\n",
              "  0.9431279897689819,\n",
              "  0.9478672742843628,\n",
              "  0.9478672742843628,\n",
              "  0.9431279897689819,\n",
              "  0.9526066184043884,\n",
              "  0.9573459625244141,\n",
              "  0.9620853066444397,\n",
              "  0.9668246507644653,\n",
              "  0.9810426831245422,\n",
              "  0.9857819676399231],\n",
              " 'loss': [9.717704772949219,\n",
              "  1.9230337142944336,\n",
              "  1.7897666692733765,\n",
              "  1.7869791984558105,\n",
              "  1.7735882997512817,\n",
              "  1.6954888105392456,\n",
              "  1.6614753007888794,\n",
              "  1.5114496946334839,\n",
              "  1.376747488975525,\n",
              "  1.2389352321624756,\n",
              "  0.9725720882415771,\n",
              "  0.7690379023551941,\n",
              "  0.7246222496032715,\n",
              "  0.6372613310813904,\n",
              "  0.5794721841812134,\n",
              "  0.5475742220878601,\n",
              "  0.3973628282546997,\n",
              "  0.40957096219062805,\n",
              "  0.40460649132728577,\n",
              "  0.3312219977378845,\n",
              "  0.36374592781066895,\n",
              "  0.35049131512641907,\n",
              "  0.3145718276500702,\n",
              "  0.2504880726337433,\n",
              "  0.23839333653450012,\n",
              "  0.22671827673912048,\n",
              "  0.19187435507774353,\n",
              "  0.2827358841896057,\n",
              "  0.2598380744457245,\n",
              "  0.2188970148563385,\n",
              "  0.19057364761829376,\n",
              "  0.2454288899898529,\n",
              "  0.1858120709657669,\n",
              "  0.16019509732723236,\n",
              "  0.14770574867725372,\n",
              "  0.18267999589443207,\n",
              "  0.1258782595396042,\n",
              "  0.139194056391716,\n",
              "  0.11121363192796707,\n",
              "  0.14184826612472534,\n",
              "  0.18520666658878326,\n",
              "  0.22674737870693207,\n",
              "  0.2190401703119278,\n",
              "  0.15568876266479492,\n",
              "  0.14701667428016663,\n",
              "  0.13635002076625824,\n",
              "  0.1342434138059616,\n",
              "  0.11630608141422272,\n",
              "  0.11227649450302124,\n",
              "  0.08240686357021332],\n",
              " 'val_accuracy': [0.13725490868091583,\n",
              "  0.1764705926179886,\n",
              "  0.1568627506494522,\n",
              "  0.2549019753932953,\n",
              "  0.3333333432674408,\n",
              "  0.4313725531101227,\n",
              "  0.4313725531101227,\n",
              "  0.5098039507865906,\n",
              "  0.47058823704719543,\n",
              "  0.5098039507865906,\n",
              "  0.686274528503418,\n",
              "  0.7254902124404907,\n",
              "  0.5882353186607361,\n",
              "  0.5686274766921997,\n",
              "  0.6274510025978088,\n",
              "  0.6666666865348816,\n",
              "  0.6666666865348816,\n",
              "  0.6666666865348816,\n",
              "  0.6470588445663452,\n",
              "  0.6666666865348816,\n",
              "  0.6666666865348816,\n",
              "  0.686274528503418,\n",
              "  0.686274528503418,\n",
              "  0.7254902124404907,\n",
              "  0.7254902124404907,\n",
              "  0.7450980544090271,\n",
              "  0.686274528503418,\n",
              "  0.6666666865348816,\n",
              "  0.6666666865348816,\n",
              "  0.686274528503418,\n",
              "  0.6666666865348816,\n",
              "  0.686274528503418,\n",
              "  0.6470588445663452,\n",
              "  0.686274528503418,\n",
              "  0.6274510025978088,\n",
              "  0.6470588445663452,\n",
              "  0.686274528503418,\n",
              "  0.7058823704719543,\n",
              "  0.7058823704719543,\n",
              "  0.7058823704719543,\n",
              "  0.6666666865348816,\n",
              "  0.6470588445663452,\n",
              "  0.6470588445663452,\n",
              "  0.5686274766921997,\n",
              "  0.6666666865348816,\n",
              "  0.6274510025978088,\n",
              "  0.6470588445663452,\n",
              "  0.6274510025978088,\n",
              "  0.6470588445663452,\n",
              "  0.686274528503418],\n",
              " 'val_loss': [2.285884380340576,\n",
              "  1.7959824800491333,\n",
              "  1.7889299392700195,\n",
              "  1.7618237733840942,\n",
              "  1.762116551399231,\n",
              "  1.5600833892822266,\n",
              "  1.6250165700912476,\n",
              "  1.3544894456863403,\n",
              "  1.399348258972168,\n",
              "  1.326505422592163,\n",
              "  1.1108378171920776,\n",
              "  1.1142770051956177,\n",
              "  1.131847620010376,\n",
              "  1.521571159362793,\n",
              "  1.1451786756515503,\n",
              "  1.1422300338745117,\n",
              "  1.1996880769729614,\n",
              "  1.1247543096542358,\n",
              "  1.1720917224884033,\n",
              "  1.2921713590621948,\n",
              "  1.0995780229568481,\n",
              "  1.1421773433685303,\n",
              "  1.264196515083313,\n",
              "  1.296864628791809,\n",
              "  1.398657202720642,\n",
              "  1.3488516807556152,\n",
              "  1.4611018896102905,\n",
              "  1.44700026512146,\n",
              "  1.431201696395874,\n",
              "  1.310046672821045,\n",
              "  1.6479955911636353,\n",
              "  1.5395257472991943,\n",
              "  1.4488004446029663,\n",
              "  1.650430679321289,\n",
              "  1.8134042024612427,\n",
              "  1.6900302171707153,\n",
              "  1.7509324550628662,\n",
              "  1.6295843124389648,\n",
              "  1.6887686252593994,\n",
              "  1.6153042316436768,\n",
              "  1.674253225326538,\n",
              "  1.5928823947906494,\n",
              "  1.7838711738586426,\n",
              "  2.118264675140381,\n",
              "  1.8247052431106567,\n",
              "  2.2857728004455566,\n",
              "  2.1050758361816406,\n",
              "  1.9805874824523926,\n",
              "  1.8261703252792358,\n",
              "  1.9541274309158325]}"
            ]
          },
          "metadata": {
            "tags": []
          },
          "execution_count": 11
        }
      ]
    },
    {
      "cell_type": "code",
      "metadata": {
        "colab": {
          "base_uri": "https://localhost:8080/",
          "height": 530
        },
        "id": "AI3-7EwaIyJF",
        "outputId": "def7e1dd-f616-4cbf-9964-ff26c9d53ceb"
      },
      "source": [
        "import matplotlib.pyplot as plt\n",
        "# plot the loss\n",
        "plt.plot(r.history['loss'], label='train loss')\n",
        "plt.plot(r.history['val_loss'], label='val loss')\n",
        "plt.legend()\n",
        "plt.show()\n",
        "plt.savefig('LossVal_loss')\n",
        "\n",
        "# plot the accuracy\n",
        "plt.plot(r.history['accuracy'], label='train acc')\n",
        "plt.plot(r.history['val_accuracy'], label='val acc')\n",
        "plt.legend()\n",
        "plt.show()\n",
        "plt.savefig('AccVal_acc')"
      ],
      "execution_count": 12,
      "outputs": [
        {
          "output_type": "display_data",
          "data": {
            "image/png": "[encoded data removed]",
            "text/plain": [
              "<Figure size 432x288 with 1 Axes>"
            ]
          },
          "metadata": {
            "tags": [],
            "needs_background": "light"
          }
        },
        {
          "output_type": "display_data",
          "data": {
            "image/png": "[encoded data removed]",
            "text/plain": [
              "<Figure size 432x288 with 1 Axes>"
            ]
          },
          "metadata": {
            "tags": [],
            "needs_background": "light"
          }
        },
        {
          "output_type": "display_data",
          "data": {
            "text/plain": [
              "<Figure size 432x288 with 0 Axes>"
            ]
          },
          "metadata": {
            "tags": []
          }
        }
      ]
    },
    {
      "cell_type": "code",
      "metadata": {
        "id": "jflsXIZFI5Bs"
      },
      "source": [
        "# save it as a h5 file\n",
        "\n",
        "\n",
        "from tensorflow.keras.models import load_model\n",
        "\n",
        "Classifier.save('model_Classifier.h5')"
      ],
      "execution_count": 13,
      "outputs": []
    },
    {
      "cell_type": "code",
      "metadata": {
        "id": "YVFoVuK4I_HH"
      },
      "source": [
        "y_pred = Classifier.predict(test_set)"
      ],
      "execution_count": 14,
      "outputs": []
    },
    {
      "cell_type": "code",
      "metadata": {
        "colab": {
          "base_uri": "https://localhost:8080/"
        },
        "id": "EcwauK4RJJP6",
        "outputId": "ad2bf2d7-1bb8-4a40-e2ee-06870c35c429"
      },
      "source": [
        "y_pred"
      ],
      "execution_count": 15,
      "outputs": [
        {
          "output_type": "execute_result",
          "data": {
            "text/plain": [
              "array([[1.12761223e-08, 9.99274313e-01, 7.21313816e-04, 4.22250395e-08,\n",
              "        7.30609884e-07, 3.51709946e-06],\n",
              "       [5.77837000e-07, 4.44313288e-02, 8.55859041e-01, 4.52484443e-07,\n",
              "        9.58794057e-02, 3.82926664e-03],\n",
              "       [2.14623878e-06, 9.78203479e-06, 9.99981403e-01, 6.67160111e-06,\n",
              "        1.02755662e-08, 1.01783861e-08],\n",
              "       [7.34933913e-02, 4.65492100e-01, 3.61830294e-02, 2.83978283e-01,\n",
              "        1.35949641e-01, 4.90352837e-03],\n",
              "       [2.03284784e-04, 1.12597164e-07, 3.12192678e-05, 1.34762726e-03,\n",
              "        2.10568360e-05, 9.98396695e-01],\n",
              "       [3.38543505e-05, 6.85082341e-07, 1.10036408e-05, 9.99947190e-01,\n",
              "        2.63110849e-07, 7.06006904e-06],\n",
              "       [6.06780013e-05, 1.14016893e-05, 2.62155343e-04, 9.99262273e-01,\n",
              "        7.15705828e-05, 3.31873307e-04],\n",
              "       [1.44563504e-02, 7.68393278e-04, 1.06925592e-02, 9.77269010e-05,\n",
              "        9.73772943e-01, 2.12020197e-04],\n",
              "       [3.36348754e-03, 6.89419985e-01, 1.21503079e-04, 1.38518386e-04,\n",
              "        3.18559594e-02, 2.75100529e-01],\n",
              "       [2.44134171e-05, 1.12309252e-07, 3.13837918e-05, 5.09543344e-04,\n",
              "        2.02485762e-06, 9.99432504e-01],\n",
              "       [7.34184550e-06, 3.28642891e-05, 1.59262010e-04, 2.17284523e-07,\n",
              "        9.99772131e-01, 2.82082838e-05],\n",
              "       [2.23309383e-01, 7.75846541e-01, 7.64288814e-07, 2.78523203e-07,\n",
              "        5.19348658e-04, 3.23704036e-04],\n",
              "       [3.43175270e-06, 1.10911635e-07, 6.93660968e-06, 4.03001723e-05,\n",
              "        1.41021437e-05, 9.99935150e-01],\n",
              "       [3.79856459e-07, 8.81186279e-05, 7.30043553e-07, 9.99908090e-01,\n",
              "        9.77485001e-07, 1.72395812e-06],\n",
              "       [8.75763013e-04, 9.99016047e-01, 5.12125262e-05, 2.22692137e-07,\n",
              "        5.58282118e-05, 8.88386353e-07],\n",
              "       [9.45865363e-03, 5.84794819e-01, 7.65222535e-02, 6.91544777e-03,\n",
              "        2.65742183e-01, 5.65666519e-02],\n",
              "       [6.32586360e-01, 5.10806255e-02, 2.43926108e-01, 2.91595105e-02,\n",
              "        1.69033406e-03, 4.15570736e-02],\n",
              "       [4.74506523e-09, 9.99999881e-01, 1.33430973e-07, 2.74419324e-11,\n",
              "        1.15624643e-09, 2.55755833e-10],\n",
              "       [1.87263766e-04, 9.99803722e-01, 8.01540682e-06, 3.98272952e-08,\n",
              "        9.17658554e-07, 3.99216802e-08],\n",
              "       [6.97489710e-08, 9.99999881e-01, 2.78643841e-09, 4.48221009e-11,\n",
              "        1.52598240e-10, 8.55505000e-09],\n",
              "       [1.95592456e-05, 4.42622968e-06, 4.78066104e-05, 9.99174893e-01,\n",
              "        4.59415969e-05, 7.07416795e-04],\n",
              "       [2.34705276e-05, 9.98988807e-01, 9.23012209e-04, 2.18418118e-05,\n",
              "        3.73351068e-05, 5.56805435e-06],\n",
              "       [3.43175270e-06, 1.10911635e-07, 6.93660968e-06, 4.03001723e-05,\n",
              "        1.41021437e-05, 9.99935150e-01],\n",
              "       [2.63395421e-02, 7.65795708e-02, 5.39793036e-05, 8.96143913e-01,\n",
              "        8.70805117e-04, 1.21972344e-05],\n",
              "       [5.00933453e-03, 3.79321545e-01, 1.63459496e-04, 3.61006532e-04,\n",
              "        6.04152322e-01, 1.09923361e-02],\n",
              "       [1.10209421e-05, 9.63797808e-01, 6.24280469e-03, 1.13788177e-04,\n",
              "        2.97882780e-02, 4.62211174e-05],\n",
              "       [2.32764942e-05, 3.93939359e-07, 3.03438128e-06, 2.79140859e-05,\n",
              "        2.78971299e-07, 9.99945164e-01],\n",
              "       [1.60196498e-06, 9.98421669e-01, 9.31878167e-04, 2.58271598e-06,\n",
              "        3.20248975e-04, 3.22066131e-04],\n",
              "       [9.99265969e-01, 6.22544670e-04, 3.66404080e-08, 1.49967420e-07,\n",
              "        9.68959648e-05, 1.43818334e-05],\n",
              "       [1.42131469e-07, 9.97589588e-01, 2.40163342e-03, 1.30899920e-07,\n",
              "        4.41347447e-06, 4.12247073e-06],\n",
              "       [3.29380751e-01, 2.82548249e-01, 4.95169871e-03, 3.73900920e-01,\n",
              "        7.64878653e-03, 1.56958168e-03],\n",
              "       [3.27780344e-06, 4.19335663e-01, 5.79663038e-01, 1.30498331e-04,\n",
              "        8.67266441e-04, 2.62683415e-07],\n",
              "       [9.99340832e-01, 6.03600747e-05, 1.12219037e-04, 4.69919585e-04,\n",
              "        3.93134951e-06, 1.26257137e-05],\n",
              "       [1.91185120e-02, 2.56174684e-01, 1.05936222e-01, 2.21559033e-01,\n",
              "        1.02356663e-02, 3.86975855e-01],\n",
              "       [2.44134644e-05, 1.12309465e-07, 3.13838209e-05, 5.09543577e-04,\n",
              "        2.02485967e-06, 9.99432504e-01],\n",
              "       [6.37670862e-04, 1.29846612e-05, 1.25659478e-03, 5.02531429e-06,\n",
              "        9.98072147e-01, 1.55907637e-05],\n",
              "       [3.74573559e-01, 3.40427876e-01, 5.13027771e-04, 1.48933046e-04,\n",
              "        1.60390604e-02, 2.68297553e-01],\n",
              "       [3.08801595e-04, 4.64116829e-06, 6.89141234e-05, 2.55030773e-06,\n",
              "        9.99612749e-01, 2.33401306e-06],\n",
              "       [8.60569894e-01, 3.21657360e-02, 9.47388168e-03, 2.00047549e-02,\n",
              "        7.77840167e-02, 1.74292893e-06],\n",
              "       [1.74577124e-02, 6.55386522e-02, 1.80781307e-03, 6.47484839e-01,\n",
              "        2.93895020e-04, 2.67417073e-01],\n",
              "       [2.60672808e-01, 4.83779907e-01, 7.04693645e-02, 8.49804934e-03,\n",
              "        1.70111567e-01, 6.46825321e-03],\n",
              "       [9.82208550e-01, 1.22520141e-04, 3.67685745e-04, 1.72286313e-02,\n",
              "        8.55961207e-06, 6.41253137e-05],\n",
              "       [9.95928228e-01, 1.15159302e-04, 2.64905067e-03, 2.89494201e-04,\n",
              "        1.01766561e-03, 4.00822131e-07],\n",
              "       [6.72495007e-05, 8.66529997e-04, 9.98594820e-01, 4.56564274e-04,\n",
              "        1.42263016e-05, 5.99780833e-07],\n",
              "       [5.16077518e-01, 2.14499265e-01, 8.41974095e-03, 6.16802415e-03,\n",
              "        2.52963483e-01, 1.87198434e-03],\n",
              "       [6.70148620e-06, 2.83545256e-01, 7.10757494e-01, 1.01090984e-04,\n",
              "        5.58945537e-03, 4.89747229e-08],\n",
              "       [5.25440872e-01, 1.28391445e-01, 2.57784277e-01, 6.68786168e-02,\n",
              "        2.03781612e-02, 1.12659740e-03],\n",
              "       [2.24164592e-06, 3.33117569e-05, 9.99782264e-01, 2.24180008e-06,\n",
              "        8.71425291e-05, 9.28670925e-05],\n",
              "       [6.20803177e-01, 1.35953814e-01, 2.02677250e-01, 4.42423450e-04,\n",
              "        3.95232700e-02, 6.00111904e-04],\n",
              "       [9.99999642e-01, 2.32219410e-10, 2.20856506e-07, 1.34794220e-07,\n",
              "        3.81419918e-09, 8.36424774e-14],\n",
              "       [4.18622047e-01, 7.33506456e-02, 1.93140060e-01, 1.53880790e-02,\n",
              "        3.10611241e-02, 2.68438041e-01]], dtype=float32)"
            ]
          },
          "metadata": {
            "tags": []
          },
          "execution_count": 15
        }
      ]
    },
    {
      "cell_type": "code",
      "metadata": {
        "id": "8R14AAlOJRjQ"
      },
      "source": [
        "import numpy as np\n",
        "y_pred = np.argmax(y_pred, axis=1)"
      ],
      "execution_count": 16,
      "outputs": []
    },
    {
      "cell_type": "code",
      "metadata": {
        "colab": {
          "base_uri": "https://localhost:8080/"
        },
        "id": "idFljBLzJSo3",
        "outputId": "15e19a7d-9672-474e-832e-ed82292a1758"
      },
      "source": [
        "y_pred"
      ],
      "execution_count": 17,
      "outputs": [
        {
          "output_type": "execute_result",
          "data": {
            "text/plain": [
              "array([1, 2, 2, 1, 5, 3, 3, 4, 1, 5, 4, 1, 5, 3, 1, 1, 0, 1, 1, 1, 3, 1,\n",
              "       5, 3, 4, 1, 5, 1, 0, 1, 3, 2, 0, 5, 5, 4, 0, 4, 0, 3, 1, 0, 0, 2,\n",
              "       0, 2, 0, 2, 0, 0, 0])"
            ]
          },
          "metadata": {
            "tags": []
          },
          "execution_count": 17
        }
      ]
    },
    {
      "cell_type": "code",
      "metadata": {
        "id": "ZShUbCPJJYYr"
      },
      "source": [
        "from tensorflow.keras.models import load_model\n",
        "from tensorflow.keras.preprocessing import image"
      ],
      "execution_count": 18,
      "outputs": []
    },
    {
      "cell_type": "code",
      "metadata": {
        "id": "TPPzANjyJaCw"
      },
      "source": [
        "model=load_model('model_Classifier.h5')"
      ],
      "execution_count": 19,
      "outputs": []
    },
    {
      "cell_type": "code",
      "metadata": {
        "id": "WZT7dv5gJch7"
      },
      "source": [
        "img=image.load_img('/content/drive/MyDrive/Dataset/Dataset/Test/50/27726-10144-18675.jpeg',target_size=(224,224))"
      ],
      "execution_count": 29,
      "outputs": []
    },
    {
      "cell_type": "code",
      "metadata": {
        "colab": {
          "base_uri": "https://localhost:8080/",
          "height": 241
        },
        "id": "gKHW8AdnKDtX",
        "outputId": "77f11b37-15f6-48e4-e3e1-2003a6a517a1"
      },
      "source": [
        "img"
      ],
      "execution_count": 30,
      "outputs": [
        {
          "output_type": "execute_result",
          "data": {
            "image/png": "[encoded data removed]",
            "text/plain": [
              "<PIL.Image.Image image mode=RGB size=224x224 at 0x7FD1849919D0>"
            ]
          },
          "metadata": {
            "tags": []
          },
          "execution_count": 30
        }
      ]
    },
    {
      "cell_type": "code",
      "metadata": {
        "id": "ctzdI9JnKG0x"
      },
      "source": [
        "test_image=image.img_to_array(img)\n",
        "test_image=np.expand_dims(test_image, axis = 0)"
      ],
      "execution_count": 32,
      "outputs": []
    },
    {
      "cell_type": "code",
      "metadata": {
        "colab": {
          "base_uri": "https://localhost:8080/"
        },
        "id": "2srA_SC8KL1m",
        "outputId": "0fad6702-9de5-4c36-e673-ec5aa0af7347"
      },
      "source": [
        "result = Classifier.predict(test_image)\n",
        "result"
      ],
      "execution_count": 33,
      "outputs": [
        {
          "output_type": "execute_result",
          "data": {
            "text/plain": [
              "array([[0., 0., 0., 0., 0., 1.]], dtype=float32)"
            ]
          },
          "metadata": {
            "tags": []
          },
          "execution_count": 33
        }
      ]
    },
    {
      "cell_type": "code",
      "metadata": {
        "id": "aHJxJ053KZpn"
      },
      "source": [
        "a=np.argmax(model.predict(test_image), axis=1)"
      ],
      "execution_count": 34,
      "outputs": []
    },
    {
      "cell_type": "code",
      "metadata": {
        "colab": {
          "base_uri": "https://localhost:8080/"
        },
        "id": "z_Bv5-a7KgEP",
        "outputId": "e00350fb-ab26-4992-9329-1088e43fcb45"
      },
      "source": [
        "a==5"
      ],
      "execution_count": 36,
      "outputs": [
        {
          "output_type": "execute_result",
          "data": {
            "text/plain": [
              "array([ True])"
            ]
          },
          "metadata": {
            "tags": []
          },
          "execution_count": 36
        }
      ]
    }
  ]
}